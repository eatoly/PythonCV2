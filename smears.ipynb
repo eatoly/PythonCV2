{
 "cells": [
  {
   "cell_type": "code",
   "execution_count": 1,
   "metadata": {
    "collapsed": true
   },
   "outputs": [],
   "source": [
    "import numpy as np\n",
    "import random\n",
    "import cv2"
   ]
  },
  {
   "cell_type": "code",
   "execution_count": null,
   "metadata": {},
   "outputs": [],
   "source": [
    "def brightSmearX(image, brightBound, minSpread, maxSpread):\n",
    "    \n",
    "    imgx = image.shape[0]\n",
    "    imgy = image.shape[1]\n",
    "    \n",
    "    #this is how you create a new np array!! Don't use '='\n",
    "    edit = np.copy(image)\n",
    "    \n",
    "    for i in range(0, imgx):\n",
    "        for j in range(0, imgy):\n",
    "            if image[i][j][0] > brightBound or image[i][j][1] > brightBound or image[i][j][2] > brightBound:\n",
    "                \n",
    "                for k in range(0, random.randint(minSpread, maxSpread)):\n",
    "                    edit[i][(j+k) % imgy] = image[i][j]\n",
    "\n",
    "                    \n",
    "    return edit\n",
    "                \n",
    "                \n",
    "                \n",
    "\n",
    "\n",
    "#start of program\n",
    "img = cv2.imread('frybox.png')\n",
    "\n",
    "edit = brightSmearX(img, 150, 5, 50)\n",
    "\n",
    "cv2.imshow('edit', edit)\n",
    "cv2.waitKey(0)\n",
    "cv2.destroyAllWindows()\n"
   ]
  },
  {
   "cell_type": "code",
   "execution_count": null,
   "metadata": {},
   "outputs": [],
   "source": [
    "def darkSmearX(image, darkBound, minSpread, maxSpread):\n",
    "    \n",
    "    imgx = image.shape[0]\n",
    "    imgy = image.shape[1]\n",
    "    \n",
    "    #this is how you create a new np array!! Don't use '='\n",
    "    edit = np.copy(image)\n",
    "    \n",
    "    for i in range(0, imgx):\n",
    "        for j in range(0, imgy):\n",
    "            if image[i][j][0] < darkBound or image[i][j][1] < darkBound or image[i][j][2] < darkBound:\n",
    "                \n",
    "                for k in range(0, random.randint(minSpread, maxSpread)):\n",
    "                    edit[i][(j-k) % imgy] = image[i][j]\n",
    "                    \n",
    "    return edit\n",
    "                \n",
    "                \n",
    "                \n",
    "\n",
    "\n",
    "\n",
    "\n",
    "#start of program\n",
    "img = cv2.imread('frybox.png')\n",
    "\n",
    "edit = darkSmearX(img, 20, 5, 100)\n",
    "\n",
    "cv2.imshow('edit', edit)\n",
    "cv2.waitKey(0)\n",
    "cv2.destroyAllWindows()"
   ]
  },
  {
   "cell_type": "code",
   "execution_count": null,
   "metadata": {},
   "outputs": [],
   "source": [
    "def split(image, brightBound, darkBound, minSpread, maxSpread):\n",
    "    \n",
    "    imgx = image.shape[0]\n",
    "    imgy = image.shape[1]\n",
    "    \n",
    "    #this is how you create a new np array!! Don't use '='\n",
    "    edit = np.copy(image)\n",
    "    \n",
    "    for i in range(0, imgx):\n",
    "        for j in range(0, imgy):\n",
    "            if image[i][j][0] > brightBound or image[i][j][1] > brightBound or image[i][j][2] > brightBound:\n",
    "                edit[i][j] = image[i][j]\n",
    "                \n",
    "                for k in range(0, random.randint(minSpread, maxSpread)):\n",
    "                    edit[i][(j+k) % imgy] = image[i][j]\n",
    "                    \n",
    "    return edit\n",
    "                \n",
    "                \n",
    "                \n",
    "\n",
    "\n",
    "\n",
    "\n",
    "#start of program\n",
    "img = cv2.imread('frybox.png')\n",
    "\n",
    "edit = split(img, 150, 100, 5, 100)\n",
    "\n",
    "cv2.imshow('edit', edit)\n",
    "cv2.waitKey(0)\n",
    "cv2.destroyAllWindows()"
   ]
  },
  {
   "cell_type": "code",
   "execution_count": null,
   "metadata": {
    "collapsed": true
   },
   "outputs": [],
   "source": []
  }
 ],
 "metadata": {
  "kernelspec": {
   "display_name": "Python 2",
   "language": "python",
   "name": "python2"
  },
  "language_info": {
   "codemirror_mode": {
    "name": "ipython",
    "version": 2
   },
   "file_extension": ".py",
   "mimetype": "text/x-python",
   "name": "python",
   "nbconvert_exporter": "python",
   "pygments_lexer": "ipython2",
   "version": "2.7.14"
  }
 },
 "nbformat": 4,
 "nbformat_minor": 2
}
