{
 "cells": [
  {
   "cell_type": "code",
   "execution_count": 5,
   "metadata": {
    "collapsed": true
   },
   "outputs": [],
   "source": [
    "import numpy as np\n",
    "import random\n",
    "import cv2"
   ]
  },
  {
   "cell_type": "code",
   "execution_count": 6,
   "metadata": {},
   "outputs": [],
   "source": [
    "#takes a line of pixels and smears it\n",
    "def smear(image):\n",
    "    \n",
    "    edit = np.copy(image)\n",
    "    \n",
    "    axis = random.randint(0, 1)\n",
    "    \n",
    "    #vertical\n",
    "    if axis == 0:\n",
    "        startCol = random.randint(0, image.shape[1])\n",
    "        endCol = random.randint(startCol, image.shape[1])\n",
    "        \n",
    "        startRow = random.randint(0, image.shape[0])\n",
    "        endRow = random.randint(0, image.shape[0])\n",
    "        \n",
    "        line = image[startRow, startCol:endCol]\n",
    "        \n",
    "        for i in range(endRow, startRow):\n",
    "            edit[i, startCol:endCol] = line\n",
    "    \n",
    "    \n",
    "    #horizontal\n",
    "    else:\n",
    "        \n",
    "        startRow = random.randint(0, image.shape[0])\n",
    "        endRow = random.randint(startRow, image.shape[0])\n",
    "        \n",
    "        startCol = random.randint(0, image.shape[1])\n",
    "        endCol = random.randint(0, image.shape[1])\n",
    "        \n",
    "        line = image[startRow:endRow, startCol]\n",
    "        \n",
    "        for i in range(startCol, endCol):\n",
    "            edit[startRow:endRow, i] = line\n",
    "            \n",
    "    return edit\n",
    "        \n",
    "\n",
    "#start of program\n",
    "img = cv2.imread('city.jpg')\n",
    "\n",
    "for i in range(0, 20):\n",
    "    img = smear(img)\n",
    "\n",
    "\n",
    "\n",
    "cv2.imshow('edit', img)\n",
    "cv2.waitKey(0)\n",
    "cv2.destroyAllWindows()\n",
    "\n",
    "#def corrupt(image):\n",
    "    "
   ]
  },
  {
   "cell_type": "code",
   "execution_count": null,
   "metadata": {
    "collapsed": true
   },
   "outputs": [],
   "source": []
  }
 ],
 "metadata": {
  "kernelspec": {
   "display_name": "Python 2",
   "language": "python",
   "name": "python2"
  },
  "language_info": {
   "codemirror_mode": {
    "name": "ipython",
    "version": 2
   },
   "file_extension": ".py",
   "mimetype": "text/x-python",
   "name": "python",
   "nbconvert_exporter": "python",
   "pygments_lexer": "ipython2",
   "version": "2.7.14"
  }
 },
 "nbformat": 4,
 "nbformat_minor": 2
}
