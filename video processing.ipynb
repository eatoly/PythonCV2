{
 "cells": [
  {
   "cell_type": "code",
   "execution_count": 1,
   "metadata": {
    "collapsed": false
   },
   "outputs": [],
   "source": [
    "import numpy as np\n",
    "import cv2"
   ]
  },
  {
   "cell_type": "code",
   "execution_count": 2,
   "metadata": {
    "collapsed": true
   },
   "outputs": [],
   "source": [
    "def quadCompress(img, i1, j1, i2, j2):\n",
    "    \n",
    "    smallest = 5\n",
    "    thresh = 10\n",
    "    \n",
    "    if (i2-i1)+1 > smallest and (j2-j1)+1 > smallest:\n",
    "        \n",
    "        stdDev = np.std(img[j1:j2, i1:i2])\n",
    "# if the pixels in a sub-array are not more or less the same,\n",
    "# compress more, else change all pixels in sub-array to mean\n",
    "        if stdDev > thresh:\n",
    "            \n",
    "            quadCompress(img, i1, j1, (i1+((i2-i1)/2))+1, (j1+((j2-j1)/2))+1)\n",
    "            quadCompress(img, (i1+((i2-i1)/2))+1, j1, i2, (j1+((j2-j1)/2))+1)\n",
    "            quadCompress(img, i1, (j1+((j2-j1)/2))+1, (i1+((i2-i1)/2))+1, j2)\n",
    "            quadCompress(img, (i1+((i2-i1)/2))+1, (j1+((j2-j1)/2))+1 , i2, j2)\n",
    "            \n",
    "        else:\n",
    "            \n",
    "            mean = np.mean(img[j1:j2, i1:i2])\n",
    "            \n",
    "            for i in range(i1,i2):\n",
    "                for j in range(j1,j2):\n",
    "                    img[j][i] = mean"
   ]
  },
  {
   "cell_type": "code",
   "execution_count": 3,
   "metadata": {
    "collapsed": false
   },
   "outputs": [],
   "source": [
    "cap = cv2.VideoCapture(0)\n",
    "\n",
    "while(True):\n",
    "    # Capture frame-by-frame\n",
    "    ret, frame = cap.read()\n",
    "\n",
    "    # Our operations on the frame come here\n",
    "    gray = cv2.cvtColor(frame, cv2.COLOR_BGR2GRAY)\n",
    "    \n",
    "    quadCompress(gray, 0, 0, len(gray[0]), len(gray))\n",
    "    \n",
    "    \n",
    "\n",
    "    # Display the resulting frame\n",
    "    cv2.imshow('frame',gray)\n",
    "    if cv2.waitKey(1) & 0xFF == ord('q'):\n",
    "        break\n",
    "\n",
    "# When everything done, release the capture\n",
    "cap.release()\n",
    "cv2.destroyAllWindows()"
   ]
  },
  {
   "cell_type": "code",
   "execution_count": null,
   "metadata": {
    "collapsed": true
   },
   "outputs": [],
   "source": []
  },
  {
   "cell_type": "code",
   "execution_count": null,
   "metadata": {
    "collapsed": true
   },
   "outputs": [],
   "source": []
  }
 ],
 "metadata": {
  "kernelspec": {
   "display_name": "Python 2",
   "language": "python",
   "name": "python2"
  },
  "language_info": {
   "codemirror_mode": {
    "name": "ipython",
    "version": 2
   },
   "file_extension": ".py",
   "mimetype": "text/x-python",
   "name": "python",
   "nbconvert_exporter": "python",
   "pygments_lexer": "ipython2",
   "version": "2.7.13"
  }
 },
 "nbformat": 4,
 "nbformat_minor": 2
}
